{
  "nbformat": 4,
  "nbformat_minor": 0,
  "metadata": {
    "colab": {
      "provenance": [],
      "authorship_tag": "ABX9TyNgvXCglNrO3479sopqaaIA",
      "include_colab_link": true
    },
    "kernelspec": {
      "name": "python3",
      "display_name": "Python 3"
    },
    "language_info": {
      "name": "python"
    }
  },
  "cells": [
    {
      "cell_type": "markdown",
      "metadata": {
        "id": "view-in-github",
        "colab_type": "text"
      },
      "source": [
        "<a href=\"https://colab.research.google.com/github/ChaeSeongyong/AI-Creat/blob/main/AI%EC%A0%84%EB%AC%B8%EA%B0%80_%EA%B3%BC%EC%A0%95_%EC%8B%A4%EC%8A%B5(250715).ipynb\" target=\"_parent\"><img src=\"https://colab.research.google.com/assets/colab-badge.svg\" alt=\"Open In Colab\"/></a>"
      ]
    },
    {
      "cell_type": "code",
      "execution_count": null,
      "metadata": {
        "id": "OifJjfdtQgwS"
      },
      "outputs": [],
      "source": [
        "c= 1+6"
      ]
    },
    {
      "cell_type": "code",
      "source": [
        "c"
      ],
      "metadata": {
        "colab": {
          "base_uri": "https://localhost:8080/"
        },
        "id": "bI4dn2_4Su2u",
        "outputId": "2245c6b2-59be-44b4-87bb-0a917ab28f0d"
      },
      "execution_count": null,
      "outputs": [
        {
          "output_type": "execute_result",
          "data": {
            "text/plain": [
              "7"
            ]
          },
          "metadata": {},
          "execution_count": 42
        }
      ]
    },
    {
      "cell_type": "code",
      "source": [
        "print(\"Hello, Colab\")"
      ],
      "metadata": {
        "colab": {
          "base_uri": "https://localhost:8080/"
        },
        "id": "CmnHXgAVSxWO",
        "outputId": "947ff395-5772-4323-f816-72faf8a4f0e6"
      },
      "execution_count": null,
      "outputs": [
        {
          "output_type": "stream",
          "name": "stdout",
          "text": [
            "Hello, Colab\n"
          ]
        }
      ]
    },
    {
      "cell_type": "code",
      "source": [
        "name=\"데이터 분석가\""
      ],
      "metadata": {
        "id": "IHD8fIZ2TX__"
      },
      "execution_count": null,
      "outputs": []
    },
    {
      "cell_type": "code",
      "source": [
        "print(f\"안녕하세요, (name)님!\")"
      ],
      "metadata": {
        "colab": {
          "base_uri": "https://localhost:8080/"
        },
        "id": "bmHPgXlVTdAM",
        "outputId": "b2113c57-aa0a-4941-e73e-49fe0121cc7a"
      },
      "execution_count": null,
      "outputs": [
        {
          "output_type": "stream",
          "name": "stdout",
          "text": [
            "안녕하세요, (name)님!\n"
          ]
        }
      ]
    },
    {
      "cell_type": "code",
      "source": [
        "print(f\"안녕하세요, {name}님\")"
      ],
      "metadata": {
        "colab": {
          "base_uri": "https://localhost:8080/"
        },
        "id": "IQ0YWLgoThw-",
        "outputId": "5359532f-215a-49d7-853b-c4109fb340f6"
      },
      "execution_count": null,
      "outputs": [
        {
          "output_type": "stream",
          "name": "stdout",
          "text": [
            "안녕하세요, 데이터 분석가님\n"
          ]
        }
      ]
    },
    {
      "cell_type": "code",
      "source": [
        "result = 10+20"
      ],
      "metadata": {
        "id": "nYsw3zOrTpMN"
      },
      "execution_count": null,
      "outputs": []
    },
    {
      "cell_type": "code",
      "source": [
        "print(\"result\")"
      ],
      "metadata": {
        "colab": {
          "base_uri": "https://localhost:8080/"
        },
        "id": "ZSAqpk8ET2pd",
        "outputId": "8fe64471-010e-4de4-92de-281aedbc8bc6"
      },
      "execution_count": null,
      "outputs": [
        {
          "output_type": "stream",
          "name": "stdout",
          "text": [
            "result\n"
          ]
        }
      ]
    },
    {
      "cell_type": "code",
      "source": [],
      "metadata": {
        "id": "yns1YFT5W0l_"
      },
      "execution_count": null,
      "outputs": []
    },
    {
      "cell_type": "code",
      "source": [
        "print(F\"{result}\")"
      ],
      "metadata": {
        "colab": {
          "base_uri": "https://localhost:8080/"
        },
        "id": "jU5ejCK9T5IN",
        "outputId": "554e15d7-84ab-48a4-b8e4-032917a25430"
      },
      "execution_count": null,
      "outputs": [
        {
          "output_type": "stream",
          "name": "stdout",
          "text": [
            "30\n"
          ]
        }
      ]
    },
    {
      "cell_type": "code",
      "source": [],
      "metadata": {
        "id": "CQEzdC0_T8yY"
      },
      "execution_count": null,
      "outputs": []
    },
    {
      "cell_type": "markdown",
      "source": [
        "안녕하세요 # 안녕하세요"
      ],
      "metadata": {
        "id": "_fnZ5vmtUtE4"
      }
    },
    {
      "cell_type": "code",
      "source": [
        "# 안녕하세요"
      ],
      "metadata": {
        "id": "U5-uXx08UwO2"
      },
      "execution_count": null,
      "outputs": []
    },
    {
      "cell_type": "code",
      "source": [],
      "metadata": {
        "id": "D3fo4LkEUxXP"
      },
      "execution_count": null,
      "outputs": []
    },
    {
      "cell_type": "markdown",
      "source": [
        "# 안녕하세요"
      ],
      "metadata": {
        "id": "hOiHoOYjUyYC"
      }
    },
    {
      "cell_type": "code",
      "source": [],
      "metadata": {
        "id": "qADyAqFtUy_s"
      },
      "execution_count": null,
      "outputs": []
    },
    {
      "cell_type": "markdown",
      "source": [
        "### 안녕하세요"
      ],
      "metadata": {
        "id": "ODOdupEzU2T4"
      }
    },
    {
      "cell_type": "code",
      "source": [],
      "metadata": {
        "id": "BRAERUNEU3N0"
      },
      "execution_count": null,
      "outputs": []
    },
    {
      "cell_type": "markdown",
      "source": [
        "## 안녕하세요"
      ],
      "metadata": {
        "id": "Doj9lyWlU4BI"
      }
    }
  ]
}